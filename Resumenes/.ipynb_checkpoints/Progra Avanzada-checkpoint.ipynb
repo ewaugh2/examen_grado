{
 "cells": [
  {
   "cell_type": "markdown",
   "metadata": {},
   "source": [
    "# Resumen - Programación Avanzada"
   ]
  },
  {
   "cell_type": "markdown",
   "metadata": {},
   "source": [
    "## Contenidos\n",
    "\n",
    "[Programación Orientada a Objetos](#Programación-Orientada-a-Objetos)\n",
    "    - Objetos\n",
    "    - Herencia\n",
    "    - Herencia múltiple\n",
    "    - Clases abstractas\n",
    "    - Properties\n",
    "    \n",
    "[Estructuras de Datos](#Estructuras-de-datos)\n",
    "    - Arboles\n",
    "    - Diccionarios\n",
    "    - Colas\n",
    "    - Stacks\n",
    "    - Sets\n",
    "    \n",
    "[Programación Funcional](#Programación-Funcional)\n",
    "    - Algunas funciones especiales de Python\n",
    "    - Comprensión de listas\n",
    "    - Iterables e iteradores\n",
    "    - Generadores\n",
    "    - Funciones lambda\n",
    "    - Map, Reduce, Filter\n",
    "    - Decoradores\n",
    "    \n",
    "[Manejo de Excepciones](#Manejo-de-Excepciones)\n",
    "    - Tipos de excepciones\n",
    "    - Control de excepciones\n",
    "    \n",
    "[Simulación: introducción a la simulación DES (Discrete Event Simulation).](#Simulación)\n",
    "\n",
    "[Threading](#Threading)\n",
    "    - Creación y sincronización de threads\n",
    "    - Concurrencia\n",
    "    \n",
    "[I/O Manejo de Strings](#I/O-Manejo-de-Strings)\n",
    "    - Bytes\n",
    "    - Serialización en formato binario\n",
    "    - Serialización en formato JSON\n",
    "    \n",
    "[Networking](#Networking)\n",
    "    - Sockets\n",
    "    - Cliente y servidor"
   ]
  },
  {
   "cell_type": "markdown",
   "metadata": {},
   "source": [
    "# Programación Orientada a Objetos"
   ]
  },
  {
   "cell_type": "markdown",
   "metadata": {},
   "source": [
    "## Objetos"
   ]
  },
  {
   "cell_type": "code",
   "execution_count": 1,
   "metadata": {},
   "outputs": [],
   "source": [
    "class Person:\n",
    "    \n",
    "    def __init__(self, fname, lname):\n",
    "        # Atributos - únicos de cada instancia\n",
    "        self.firstname = fname\n",
    "        self.lastname = lname\n",
    "    \n",
    "    # Métodos - usan los atributos de cada instancia\n",
    "    def printname(self):\n",
    "        print(self.firstname, self.lastname)\n",
    "        \n",
    "    # Atributos de clase - igual para todas las instancias\n",
    "    race = \"Human\"\n",
    "    \n",
    "    # Metodo de clase - igual para todas las instancias\n",
    "    @staticmethod\n",
    "    def breath():\n",
    "        print(\"breathing...\")\n",
    "        "
   ]
  },
  {
   "cell_type": "code",
   "execution_count": 2,
   "metadata": {},
   "outputs": [
    {
     "name": "stdout",
     "output_type": "stream",
     "text": [
      "Mike Olsen\n",
      "breathing...\n"
     ]
    }
   ],
   "source": [
    "p = Person(\"Mike\", \"Olsen\")\n",
    "p.printname()\n",
    "p.breath()"
   ]
  },
  {
   "cell_type": "markdown",
   "metadata": {},
   "source": [
    "## Herencia"
   ]
  },
  {
   "cell_type": "code",
   "execution_count": 3,
   "metadata": {},
   "outputs": [],
   "source": [
    "class Student(Person):\n",
    "    \n",
    "    def __init__(self, fname, lname, year):\n",
    "        super().__init__(fname, lname)\n",
    "        self.graduationyear = year\n",
    "        \n",
    "    def greet(self):\n",
    "        print(self.firstname, self.lastname, \"of the class of\", self.graduationyear)"
   ]
  },
  {
   "cell_type": "code",
   "execution_count": 4,
   "metadata": {},
   "outputs": [
    {
     "name": "stdout",
     "output_type": "stream",
     "text": [
      "Thomas Olsen\n",
      "breathing...\n",
      "Thomas Olsen of the class of 2021\n",
      "Human\n",
      "Human\n",
      "Human\n"
     ]
    }
   ],
   "source": [
    "s = Student(\"Thomas\", \"Olsen\", 2021)\n",
    "s.printname()\n",
    "s.breath()\n",
    "s.greet()\n",
    "print(s.race)\n",
    "print(Person.race)\n",
    "print(Student.race)"
   ]
  },
  {
   "cell_type": "markdown",
   "metadata": {},
   "source": [
    "## Herencia múltiple"
   ]
  },
  {
   "cell_type": "code",
   "execution_count": 5,
   "metadata": {},
   "outputs": [],
   "source": [
    "class Citizen:\n",
    "    def __init__(self, age):\n",
    "        self.age = age\n",
    "    \n",
    "    def drive(self):\n",
    "        print(\"driving...\")\n",
    "        \n",
    "class Driver(Person, Citizen):\n",
    "    def __init__(self, fname, lname, age, car):\n",
    "        Person.__init__(self, fname, lname)\n",
    "        Citizen.__init__(self, age)\n",
    "        self.car = car"
   ]
  },
  {
   "cell_type": "code",
   "execution_count": 6,
   "metadata": {},
   "outputs": [
    {
     "name": "stdout",
     "output_type": "stream",
     "text": [
      "John Olsen\n",
      "driving...\n"
     ]
    },
    {
     "data": {
      "text/plain": [
       "'Tesla'"
      ]
     },
     "execution_count": 6,
     "metadata": {},
     "output_type": "execute_result"
    }
   ],
   "source": [
    "d = Driver(\"John\", \"Olsen\", 23, \"Tesla\")\n",
    "d.printname()\n",
    "d.drive()\n",
    "d.car"
   ]
  },
  {
   "cell_type": "markdown",
   "metadata": {},
   "source": [
    "## Clases Abstractas"
   ]
  },
  {
   "cell_type": "markdown",
   "metadata": {},
   "source": [
    "Abstract classes are classes that serve as a blueprint for other classes. They are identified for having abstract methods. These are methods that are declared but not implemented, and that require overwritting by the subclasses. \n",
    "\n",
    "These classes are used, for example, in API implementations, where the user is supposed to define a function. In Python we use the Abstract Base Class library and declare abstract methods using @abstractmethod"
   ]
  },
  {
   "cell_type": "code",
   "execution_count": 7,
   "metadata": {},
   "outputs": [],
   "source": [
    "from abc import ABC, abstractmethod\n",
    "\n",
    "class Polygon:\n",
    "    @abstractmethod\n",
    "    def numsides(self):\n",
    "        pass\n",
    "    \n",
    "    \n",
    "class Triangle(Polygon):\n",
    "    # overriding abstract method\n",
    "    def numsides(self):\n",
    "        print(\"I have 3 sides\")\n",
    "        \n",
    "\n",
    "class Hexagon(Polygon):\n",
    "    # overriding abstract method\n",
    "    def numsides(self):\n",
    "        print(\"I have 6 sides\")"
   ]
  },
  {
   "cell_type": "code",
   "execution_count": 8,
   "metadata": {
    "scrolled": true
   },
   "outputs": [
    {
     "name": "stdout",
     "output_type": "stream",
     "text": [
      "I have 3 sides\n",
      "I have 6 sides\n"
     ]
    }
   ],
   "source": [
    "t = Triangle()\n",
    "h = Hexagon()\n",
    "\n",
    "t.numsides()\n",
    "h.numsides()"
   ]
  },
  {
   "cell_type": "markdown",
   "metadata": {},
   "source": [
    "Abstract classes can also be implemented through subclassing"
   ]
  },
  {
   "cell_type": "code",
   "execution_count": 9,
   "metadata": {},
   "outputs": [
    {
     "name": "stdout",
     "output_type": "stream",
     "text": [
      "True\n",
      "True\n"
     ]
    }
   ],
   "source": [
    "class parent:      \n",
    "    def geeks(self):\n",
    "        pass\n",
    "\n",
    "class child(parent):\n",
    "    def geeks(self):\n",
    "        print(\"child class\")\n",
    "\n",
    "# Driver code\n",
    "print( issubclass(child, parent))\n",
    "print( isinstance(child(), parent))"
   ]
  },
  {
   "cell_type": "markdown",
   "metadata": {},
   "source": [
    "Also, abstract classes can have regular methods, and we can access them."
   ]
  },
  {
   "cell_type": "code",
   "execution_count": 10,
   "metadata": {},
   "outputs": [
    {
     "name": "stdout",
     "output_type": "stream",
     "text": [
      "Abstract Base Class\n",
      "subclass \n"
     ]
    }
   ],
   "source": [
    "from abc import ABC, abstractmethod\n",
    "\n",
    "class R(ABC):\n",
    "    def rk(self):\n",
    "        print(\"Abstract Base Class\")\n",
    "\n",
    "class K(R):\n",
    "    def rk(self):\n",
    "        super().rk()\n",
    "        print(\"subclass \")\n",
    "\n",
    "# Driver code\n",
    "r = K()\n",
    "r.rk()"
   ]
  },
  {
   "cell_type": "markdown",
   "metadata": {},
   "source": [
    "## Properties"
   ]
  },
  {
   "cell_type": "markdown",
   "metadata": {},
   "source": [
    "##### Properties\n",
    "\n",
    "Are methods that are to be used as parameters (or attributes). They are used to perform operations before returning a value. \n",
    "\n",
    "##### Getters - Setters\n",
    "\n",
    "Used to manage private attributes and/or to perform operations at getting or setting an attribute"
   ]
  },
  {
   "cell_type": "code",
   "execution_count": 11,
   "metadata": {},
   "outputs": [],
   "source": [
    "class P:\n",
    "    def __init__(self, x):\n",
    "        self.x = x\n",
    "    \n",
    "    # the getter\n",
    "    @property\n",
    "    def x(self):\n",
    "        # print(\"holaa\")\n",
    "        \n",
    "        a = int(self.__x)\n",
    "        a += 1\n",
    "        a -= 1\n",
    "        \n",
    "        return a\n",
    "    \n",
    "    # setter\n",
    "    @x.setter\n",
    "    def x(self, x):\n",
    "        if x < 0:\n",
    "            self.__x = 0\n",
    "        elif x > 100:\n",
    "            self.__x = 100\n",
    "        else:\n",
    "            self.__x = x\n",
    "    \n",
    "    @property\n",
    "    def square(self):\n",
    "        a = int(self.x)\n",
    "        return a ** 2"
   ]
  },
  {
   "cell_type": "code",
   "execution_count": 12,
   "metadata": {},
   "outputs": [
    {
     "name": "stdout",
     "output_type": "stream",
     "text": [
      "100\n",
      "0\n",
      "25\n"
     ]
    }
   ],
   "source": [
    "p = P(101)\n",
    "print(p.x)\n",
    "\n",
    "p.x -= 105\n",
    "print(p.x)\n",
    "\n",
    "p.x = 5\n",
    "print(p.square)"
   ]
  },
  {
   "cell_type": "markdown",
   "metadata": {},
   "source": [
    "# Estructuras de datos"
   ]
  },
  {
   "cell_type": "markdown",
   "metadata": {},
   "source": [
    "## Trees"
   ]
  },
  {
   "cell_type": "code",
   "execution_count": 13,
   "metadata": {},
   "outputs": [],
   "source": [
    "class Node:\n",
    "    def __init__(self, data):\n",
    "        self.left, self.right = None, None\n",
    "        self.data = data\n",
    "        \n",
    "    def insert(self, data):\n",
    "        if not (isinstance(self.data, int) or isinstance(self.data, float)):\n",
    "            self.data = data\n",
    "            return\n",
    "        \n",
    "        if data < self.data:\n",
    "            if self.left is None:\n",
    "                self.left = Node(data)\n",
    "            else:\n",
    "                self.left.insert(data)\n",
    "        \n",
    "        elif data > self.data:\n",
    "            if self.right is None:\n",
    "                self.right = Node(data)\n",
    "            else:\n",
    "                self.right.insert(data)\n",
    "    \n",
    "    def print_tree(self):\n",
    "        if self.left:\n",
    "            self.left.print_tree()\n",
    "        \n",
    "        print(self.data)\n",
    "        \n",
    "        if self.right:\n",
    "            self.right.print_tree()"
   ]
  },
  {
   "cell_type": "code",
   "execution_count": 14,
   "metadata": {},
   "outputs": [
    {
     "name": "stdout",
     "output_type": "stream",
     "text": [
      "4\n",
      "5\n",
      "6\n",
      "10\n",
      "11\n"
     ]
    }
   ],
   "source": [
    "root = Node(10)\n",
    "root.insert(11)\n",
    "root.insert(5)\n",
    "root.insert(6)\n",
    "root.insert(4)\n",
    "root.print_tree()"
   ]
  },
  {
   "cell_type": "markdown",
   "metadata": {},
   "source": [
    "## Dictionaries"
   ]
  },
  {
   "cell_type": "code",
   "execution_count": 15,
   "metadata": {},
   "outputs": [
    {
     "name": "stdout",
     "output_type": "stream",
     "text": [
      "{'a': 4, 'b': 2}\n",
      "{'c': 3, 'b': 4}\n",
      "{'a': 4, 'b': 4, 'c': 3}\n"
     ]
    }
   ],
   "source": [
    "d1 = dict()\n",
    "d1[\"a\"] = 1\n",
    "d1[\"b\"] = 2\n",
    "d1[\"a\"] += 3\n",
    "print(d1)\n",
    "\n",
    "d2 = {\n",
    "    \"c\": 3,\n",
    "    \"b\": 4\n",
    "}\n",
    "print(d2)\n",
    "\n",
    "d1.update(d2)\n",
    "print(d1)"
   ]
  },
  {
   "cell_type": "markdown",
   "metadata": {},
   "source": [
    "## Queues & Stacks"
   ]
  },
  {
   "cell_type": "markdown",
   "metadata": {},
   "source": [
    "##### Queue \n",
    "- First In First Out (FIFO)\n",
    "\n",
    "##### Stack\n",
    "- Last In First Out (LIFO)\n",
    "\n",
    "También existen los \"priority queue/stack\", que crean categorías de colas y criterios para priorizar entre ellas. Un ejemplo, se vacía la 1 primero, luego la 2, y así. Si vamos en la 2 y llega algo a la 1, este se atiende siguiente."
   ]
  },
  {
   "cell_type": "code",
   "execution_count": 16,
   "metadata": {},
   "outputs": [
    {
     "name": "stdout",
     "output_type": "stream",
     "text": [
      "Queue poping:\n",
      "1 2 3 4 5 \n",
      "\n",
      "Stack poping:\n",
      "5 4 3 2 1 "
     ]
    }
   ],
   "source": [
    "# Using lists:\n",
    "\n",
    "q = list()\n",
    "s = list()\n",
    "\n",
    "for i in range(1, 6):\n",
    "    q.append(i)\n",
    "    s.append(i)\n",
    "\n",
    "print(\"Queue poping:\")\n",
    "for i in range(1, 6):\n",
    "    print(q.pop(0), end=\" \")\n",
    "    \n",
    "print(\"\\n\\nStack poping:\")\n",
    "for i in range(1, 6):\n",
    "    print(s.pop(), end=\" \")"
   ]
  },
  {
   "cell_type": "code",
   "execution_count": 17,
   "metadata": {},
   "outputs": [
    {
     "name": "stdout",
     "output_type": "stream",
     "text": [
      "Queue poping:\n",
      "1 2 3 4 5 \n",
      "\n",
      "Stack poping:\n",
      "5 4 3 2 1 "
     ]
    }
   ],
   "source": [
    "# Using deque library\n",
    "\n",
    "from collections import deque\n",
    "\n",
    "q = deque()\n",
    "s = deque()\n",
    "\n",
    "for i in range(1, 6):\n",
    "    q.append(i)\n",
    "    s.append(i)\n",
    "\n",
    "print(\"Queue poping:\")\n",
    "for i in range(1, 6):\n",
    "    print(q.popleft(), end=\" \")\n",
    "    \n",
    "print(\"\\n\\nStack poping:\")\n",
    "for i in range(1, 6):\n",
    "    print(s.pop(), end=\" \")"
   ]
  },
  {
   "cell_type": "markdown",
   "metadata": {},
   "source": [
    "## Sets"
   ]
  },
  {
   "cell_type": "code",
   "execution_count": 18,
   "metadata": {},
   "outputs": [
    {
     "name": "stdout",
     "output_type": "stream",
     "text": [
      "{1, 2, 3, 4}\n",
      "{3, 4, 5, 6}\n",
      "\n",
      "Union: {1, 2, 3, 4, 5, 6}\n",
      "Union: {1, 2, 3, 4, 5, 6}\n",
      "\n",
      "Intersection: {3, 4}\n",
      "Intersection: {3, 4}\n",
      "\n",
      "Difference: {1, 2}\n",
      "Difference: {1, 2}\n",
      "\n",
      "Union in series: {1, 2, 3, 4, 5, 6, 8}\n",
      "Intersection in series: {4}\n",
      "Difference in series: {1}\n"
     ]
    }
   ],
   "source": [
    "s1 = set([1, 2, 3, 4])\n",
    "s2 = {3, 4, 5, 6}\n",
    "s3 = {2, 4, 6, 8}\n",
    "\n",
    "print(s1)\n",
    "print(s2)\n",
    "print()\n",
    "\n",
    "print(\"Union:\", s1 | s2)\n",
    "print(\"Union:\", s1.union(s2))\n",
    "print()\n",
    "\n",
    "print(\"Intersection:\", s1 & s2)\n",
    "print(\"Intersection:\", s1.intersection(s2))\n",
    "print()\n",
    "\n",
    "print(\"Difference:\", s1 - s2)\n",
    "print(\"Difference:\", s1.difference(s2))\n",
    "print()\n",
    "\n",
    "print(\"Union in series:\", s1 | s2 | s3)\n",
    "print(\"Intersection in series:\", s1 & s2 & s3)\n",
    "print(\"Difference in series:\", s1 - s2 - s3)"
   ]
  },
  {
   "cell_type": "markdown",
   "metadata": {},
   "source": [
    "# Programación Funcional"
   ]
  },
  {
   "cell_type": "code",
   "execution_count": 19,
   "metadata": {},
   "outputs": [],
   "source": [
    "\"\"\"\n",
    "Programación Funcional\n",
    "\n",
    "- Algunas funciones especiales de Python\n",
    "- Comprensión de listas\n",
    "- Iterables e iteradores\n",
    "- Generadores\n",
    "- Funciones lambda\n",
    "- Map, Reduce, Filter\n",
    "- Decoradores\n",
    "\"\"\"\n",
    "a = 1"
   ]
  },
  {
   "cell_type": "code",
   "execution_count": 20,
   "metadata": {},
   "outputs": [
    {
     "data": {
      "text/plain": [
       "[2, 3, 4, 6]"
      ]
     },
     "execution_count": 20,
     "metadata": {},
     "output_type": "execute_result"
    }
   ],
   "source": [
    "# Comprension de listas\n",
    "\n",
    "l = [1, 2, 3, 4, 5, 6]\n",
    "\n",
    "[x for x in l if x%2 == 0 or x == 3]"
   ]
  },
  {
   "cell_type": "markdown",
   "metadata": {},
   "source": [
    "## Iterables and Iterators"
   ]
  },
  {
   "cell_type": "markdown",
   "metadata": {},
   "source": [
    "Iterable: python object that can be iterated over (they posess the __iter__ or __getitem__ method) the __iter__ method of the object returns a \"iterable object\"\n",
    "\n",
    "Iterator: python object that iterates over the content of an iterable (gets returned by the iterable's method iter()). The method __next__ ask for the next item\n"
   ]
  },
  {
   "cell_type": "code",
   "execution_count": 21,
   "metadata": {},
   "outputs": [
    {
     "name": "stdout",
     "output_type": "stream",
     "text": [
      "l: [1, 2, 3, 4, 5, 6]\n",
      "__iter__ in dir(l): True -> l is an iterable\n",
      "__next__ in dir(l): False -> l is not an iterator\n",
      "\n",
      "l_iter = iter(l): <list_iterator object at 0x7ffbacafc940>\n",
      "__next__ in dir(l_iter): True -> l is an iterator\n",
      "__iter__ in dir(l_iter): True -> l is also an iterable\n",
      "\n"
     ]
    }
   ],
   "source": [
    "# iterable\n",
    "l = [1, 2, 3, 4, 5, 6]\n",
    "\n",
    "print(\"l:\", l)\n",
    "print(\"__iter__ in dir(l):\", \"__iter__\" in dir(l), \"-> l is an iterable\")\n",
    "print(\"__next__ in dir(l):\", \"__next__\" in dir(l), \"-> l is not an iterator\")\n",
    "print()\n",
    "\n",
    "# iterator\n",
    "l_iter = iter(l)\n",
    "print(\"l_iter = iter(l):\", l_iter)\n",
    "print(\"__next__ in dir(l_iter):\", \"__next__\" in dir(l_iter), \"-> l is an iterator\")\n",
    "print(\"__iter__ in dir(l_iter):\", \"__iter__\" in dir(l_iter), \"-> l is also an iterable\")\n",
    "print()\n",
    "\n",
    "# Note: all iterators are iterables, iter(iterator) returns self\n",
    "\n"
   ]
  },
  {
   "cell_type": "code",
   "execution_count": 22,
   "metadata": {},
   "outputs": [
    {
     "name": "stdout",
     "output_type": "stream",
     "text": [
      "1 2 3 4 \n",
      "\n",
      "1 2 3 4 StopIteration\n",
      "\n",
      "\n"
     ]
    }
   ],
   "source": [
    "l = [1, 2, 3, 4]\n",
    "l_iter = iter(l)\n",
    "\n",
    "for x in l:\n",
    "    print(x, end=\" \")\n",
    "print(\"\\n\")\n",
    "\n",
    "# this will print the same, but raise and error when the iterator is done\n",
    "for _ in range(len(l)+1):\n",
    "    try:\n",
    "        print(next(l_iter), end=\" \")\n",
    "    except StopIteration:\n",
    "        print(\"StopIteration\")\n",
    "        break\n",
    "    \n",
    "print(\"\\n\")"
   ]
  },
  {
   "cell_type": "code",
   "execution_count": 23,
   "metadata": {},
   "outputs": [
    {
     "name": "stdout",
     "output_type": "stream",
     "text": [
      "1 2 3 4 "
     ]
    }
   ],
   "source": [
    "# A for loop is basically:\n",
    "\n",
    "l = [1, 2, 3, 4]\n",
    "l_iter = iter(l)\n",
    "\n",
    "while True:\n",
    "    try:\n",
    "        x = next(l_iter)\n",
    "        print(x, end=\" \")  # or do something else\n",
    "    except StopIteration:\n",
    "        break"
   ]
  },
  {
   "cell_type": "markdown",
   "metadata": {},
   "source": [
    "## Generators"
   ]
  },
  {
   "cell_type": "markdown",
   "metadata": {},
   "source": [
    "There are Generator-Functions and Generator-Objects. Generator-Functions return a Generator-Object. Generator-Objects can be used as iterators.\n",
    "\n",
    "Generator functions are regular functions that switch the \"return\" statement for the \"yield\" statement. Once the next() function has been called the generator-function picks up from the last yield statement."
   ]
  },
  {
   "cell_type": "code",
   "execution_count": 24,
   "metadata": {},
   "outputs": [
    {
     "name": "stdout",
     "output_type": "stream",
     "text": [
      "1\n",
      "2\n",
      "3\n"
     ]
    }
   ],
   "source": [
    "# iterate over the generator-function\n",
    "\n",
    "def simple_gen():\n",
    "    yield 1\n",
    "    yield 2\n",
    "    yield 3\n",
    "\n",
    "for x in simple_gen():\n",
    "    print(x)"
   ]
  },
  {
   "cell_type": "code",
   "execution_count": 25,
   "metadata": {},
   "outputs": [
    {
     "name": "stdout",
     "output_type": "stream",
     "text": [
      "1 2 3 \n",
      "\n",
      "1 2 3 StopIteration\n"
     ]
    }
   ],
   "source": [
    "# get a generator-object and iterate it\n",
    "\n",
    "x = simple_gen()\n",
    "\n",
    "for y in x:\n",
    "    print(y, end=\" \")\n",
    "print(\"\\n\")\n",
    "\n",
    "\n",
    "# this will raise a stop iteration error\n",
    "x = simple_gen()\n",
    "\n",
    "while True:\n",
    "    try:\n",
    "        print(next(x), end=\" \")\n",
    "    except StopIteration:\n",
    "        print(\"StopIteration\")\n",
    "        break"
   ]
  },
  {
   "cell_type": "markdown",
   "metadata": {},
   "source": [
    "## Funciones Lambda"
   ]
  },
  {
   "cell_type": "markdown",
   "metadata": {},
   "source": [
    "Lambda functions are one-liner functions in python."
   ]
  },
  {
   "cell_type": "code",
   "execution_count": 26,
   "metadata": {},
   "outputs": [
    {
     "name": "stdout",
     "output_type": "stream",
     "text": [
      "True\n"
     ]
    }
   ],
   "source": [
    "def func1(x):\n",
    "    return x**2\n",
    "\n",
    "func2 = lambda x: x**2\n",
    "\n",
    "print(func1(5) == func2(5))"
   ]
  },
  {
   "cell_type": "markdown",
   "metadata": {},
   "source": [
    "## Map, Reduce, Filter"
   ]
  },
  {
   "cell_type": "markdown",
   "metadata": {},
   "source": [
    "These three functions return generators.\n",
    "\n",
    "- map(func, iterable) takes a function to be applied to the iterable. Returns another iterable on with the function has been applied to every item of the original iterable. It can take more than just one iterable. Return a generator.\n",
    "- reduce(func, iterable) takes a function to be applied to the iterable's items one by one, accumulating the results. This function must be imported from functools. Returns one item\n",
    "- filter(func, iterable) takes a function and applies it to every element on the iterable. If func(element) == True then the element is passed on, else it is not. Returns a generator."
   ]
  },
  {
   "cell_type": "code",
   "execution_count": 27,
   "metadata": {},
   "outputs": [
    {
     "name": "stdout",
     "output_type": "stream",
     "text": [
      "map:\n",
      "\n",
      "[1, 4, 9, 16] \n",
      "\n",
      "[28, 80, 162]\n"
     ]
    }
   ],
   "source": [
    "# map\n",
    "print(\"map:\\n\")\n",
    "\n",
    "# one iterable\n",
    "m = map(lambda x: x ** 2, [1, 2, 3, 4])\n",
    "l = list(m)\n",
    "print(l, \"\\n\")\n",
    "\n",
    "\n",
    "# three iterables\n",
    "m = map(lambda x, y, z: x*y*z, [1, 2, 3], [4, 5, 6], [7, 8, 9])\n",
    "l = list(m)\n",
    "print(l)"
   ]
  },
  {
   "cell_type": "code",
   "execution_count": 28,
   "metadata": {},
   "outputs": [
    {
     "name": "stdout",
     "output_type": "stream",
     "text": [
      "reduce:\n",
      "\n"
     ]
    },
    {
     "data": {
      "text/plain": [
       "10"
      ]
     },
     "execution_count": 28,
     "metadata": {},
     "output_type": "execute_result"
    }
   ],
   "source": [
    "# reduce\n",
    "print(\"reduce:\\n\")\n",
    "\n",
    "# import\n",
    "from functools import reduce\n",
    "\n",
    "reduce(lambda x, y: x+y, [1, 2, 3, 4])"
   ]
  },
  {
   "cell_type": "code",
   "execution_count": 29,
   "metadata": {},
   "outputs": [
    {
     "name": "stdout",
     "output_type": "stream",
     "text": [
      "filter:\n",
      "\n",
      "[2, 3, 4, 6]\n",
      "[2, 3, 4, 6]\n"
     ]
    }
   ],
   "source": [
    "# filter\n",
    "print(\"filter:\\n\")\n",
    "\n",
    "l = [1, 2, 3, 4, 5, 6]\n",
    "\n",
    "print([x for x in l if x%2==0 or x==3])\n",
    "print(list(filter(lambda x: x%2==0 or x==3, l)))"
   ]
  },
  {
   "cell_type": "markdown",
   "metadata": {},
   "source": [
    "## Decoradores"
   ]
  },
  {
   "cell_type": "markdown",
   "metadata": {},
   "source": [
    "Functions to add new functionalities to an existing function without editing it or altering it's original structure. It's a function that takes the target function (the function to be altered), creates a wrapper function to alter it and returns the wrapper (the wrapper calls the target function inside it).\n",
    "\n",
    "Something important to consider is that the wrapper function has acces to all variables inside the decorator function (for example, the target function)."
   ]
  },
  {
   "cell_type": "code",
   "execution_count": 30,
   "metadata": {},
   "outputs": [],
   "source": [
    "# the decorator function\n",
    "def upper_decorator(func):\n",
    "    # here \"func\" is the target function to be modified\n",
    "    \n",
    "    # the wrapper function\n",
    "    def wrapper():\n",
    "        # call the target function\n",
    "        x = func()\n",
    "        \n",
    "        # alter the result\n",
    "        uppercase_x = x.upper()\n",
    "        \n",
    "        # return altered result\n",
    "        return uppercase_x\n",
    "    \n",
    "    # wrapper is a function that runs target and modifies the output\n",
    "    return wrapper"
   ]
  },
  {
   "cell_type": "code",
   "execution_count": 31,
   "metadata": {},
   "outputs": [],
   "source": [
    "# to use as target function\n",
    "def say_hi():\n",
    "    return \"hello there\""
   ]
  },
  {
   "cell_type": "code",
   "execution_count": 32,
   "metadata": {},
   "outputs": [
    {
     "name": "stdout",
     "output_type": "stream",
     "text": [
      "hello there\n",
      "HELLO THERE\n"
     ]
    }
   ],
   "source": [
    "decorated_say_hi = upper_decorator(say_hi)  # pass the target function as argument (without running it)\n",
    "\n",
    "print(say_hi())\n",
    "print(decorated_say_hi())"
   ]
  },
  {
   "cell_type": "code",
   "execution_count": 33,
   "metadata": {},
   "outputs": [
    {
     "name": "stdout",
     "output_type": "stream",
     "text": [
      "HELLO THERE\n"
     ]
    }
   ],
   "source": [
    "# we can also use the python syntaxis\n",
    "\n",
    "@upper_decorator\n",
    "def say_hi():\n",
    "    return \"hello there\"\n",
    "\n",
    "print(say_hi())"
   ]
  },
  {
   "cell_type": "code",
   "execution_count": 34,
   "metadata": {},
   "outputs": [
    {
     "name": "stdout",
     "output_type": "stream",
     "text": [
      "['HELLO', 'THERE']\n"
     ]
    }
   ],
   "source": [
    "# we can concatenate decorators\n",
    "\n",
    "def split_decorator(func):\n",
    "    def wrapper():\n",
    "        x = func()\n",
    "        splitted_x = x.split(\" \")\n",
    "        return splitted_x\n",
    "    \n",
    "    return wrapper\n",
    "\n",
    "@split_decorator\n",
    "@upper_decorator\n",
    "def say_hi():\n",
    "    return \"hello there\"\n",
    "\n",
    "print(say_hi())\n",
    "\n",
    "# the order is bottom up\n",
    "# 1) say_hi\n",
    "# 2) upper_decorator\n",
    "# 3) split_decorator"
   ]
  },
  {
   "cell_type": "code",
   "execution_count": 35,
   "metadata": {},
   "outputs": [
    {
     "name": "stdout",
     "output_type": "stream",
     "text": [
      "HELLO THERE\n"
     ]
    }
   ],
   "source": [
    "# targets with arguments\n",
    "# the wrapper must take the arguments of the target function\n",
    "\n",
    "def shout_decorator(func):\n",
    "    def wrapper(text):\n",
    "        x = func(text)\n",
    "        return x.upper()\n",
    "    \n",
    "    return wrapper\n",
    "\n",
    "@shout_decorator\n",
    "def speak(text):\n",
    "    return text\n",
    "\n",
    "print(speak(\"hello there\"))"
   ]
  },
  {
   "cell_type": "code",
   "execution_count": 36,
   "metadata": {},
   "outputs": [
    {
     "name": "stdout",
     "output_type": "stream",
     "text": [
      "Time taken: 3.0035 secs\n",
      "3\n"
     ]
    }
   ],
   "source": [
    "# general purpose decorators\n",
    "# args: tuple of regular arguments to target\n",
    "# kwargs: dictionary of keyword arguments to target\n",
    "# func(*(1, 2, 3), **{a=1, b=2}) == func(1, 2, 3, a=1, b=2)\n",
    "\n",
    "import time\n",
    "\n",
    "def time_logger_decorator(func):\n",
    "    def wrapper(*args, **kwargs):\n",
    "        t = time.time()\n",
    "        x = func(*args, **kwargs)\n",
    "        print(\"Time taken:\", round(time.time() - t, 4), \"secs\")\n",
    "        return x\n",
    "    \n",
    "    return wrapper\n",
    "\n",
    "@time_logger_decorator\n",
    "def wait(secs, extra_secs=1):\n",
    "    time.sleep(secs)\n",
    "    time.sleep(extra_secs)\n",
    "    return secs + extra_secs\n",
    "    \n",
    "print(wait(1, extra_secs=2))"
   ]
  },
  {
   "cell_type": "code",
   "execution_count": 37,
   "metadata": {},
   "outputs": [
    {
     "name": "stdout",
     "output_type": "stream",
     "text": [
      "('test', 'deco', 'arguments') {'kwarg': 1}\n",
      "(512, 1)\n"
     ]
    }
   ],
   "source": [
    "# decorators with arguments\n",
    "\n",
    "# we create a decorator generator\n",
    "\n",
    "def decorator_print_arguments(*args_deco, **kwargs_deco):\n",
    "    # this decorator only prints it's arguments\n",
    "    \n",
    "    def decorator(func):\n",
    "        def wrapper(*args_target, **kwargs_target):\n",
    "            # print decorator arguments\n",
    "            print(args_deco, kwargs_deco)\n",
    "            \n",
    "            # run target function\n",
    "            x = func(*args_target, **kwargs_target)\n",
    "            \n",
    "            #modify target function's output\n",
    "            modified_x = (x, 1)\n",
    "            \n",
    "            return modified_x\n",
    "        \n",
    "        return wrapper\n",
    "    \n",
    "    return decorator\n",
    "\n",
    "@decorator_print_arguments(*(\"test\", \"deco\", \"arguments\"), kwarg=1)\n",
    "def test_func(x, y, z=1):\n",
    "    return x ** y ** z\n",
    "\n",
    "print(test_func(2, 3, z=2))"
   ]
  },
  {
   "cell_type": "markdown",
   "metadata": {},
   "source": [
    "## Programación Funcional - Putting it all together"
   ]
  },
  {
   "cell_type": "code",
   "execution_count": 38,
   "metadata": {},
   "outputs": [],
   "source": [
    "from functools import reduce\n",
    "import time\n",
    "\n",
    "class CustomList:\n",
    "    \"\"\"\n",
    "    Class that imitates list behaviour of this module contents\n",
    "    \"\"\"\n",
    "    \n",
    "    def __init__(self, l):\n",
    "        self.data = l\n",
    "        \n",
    "    def __iter__(self):\n",
    "        self.iterator = iter(self.data)\n",
    "        return self\n",
    "    \n",
    "    def __next__(self):\n",
    "        # if there is a next: return next\n",
    "        # if there is not: return raised error\n",
    "        return next(self.iterator)\n",
    "    \n",
    "    def generator(self):\n",
    "        for x in self.data:\n",
    "            yield x\n",
    "            \n",
    "    def map(self, func):\n",
    "        # return map(func, self.data)\n",
    "        return map(func, self)\n",
    "    \n",
    "    def reduce(self, func):\n",
    "        # return reduce(func, self.data)\n",
    "        return reduce(func, self)\n",
    "    \n",
    "    def filter(self, func):\n",
    "        # return filter(func, self.data)\n",
    "        return filter(func, self)\n",
    "    \n",
    "def add_one_to_first_target_arg_and_print_decorator_args(*deco_args, **deco_kwargs):\n",
    "    def decorator(func):\n",
    "        def wrapper(*target_args, **target_kwargs):\n",
    "            # print decorator args\n",
    "            print(\"Decorator arguments:\", deco_args, deco_kwargs)\n",
    "            \n",
    "            # add one to first target argument\n",
    "            first_arg = target_args[0]\n",
    "            other_args = target_args[1:]\n",
    "            x = func(first_arg + 1, *other_args, **target_kwargs)\n",
    "            \n",
    "            return x\n",
    "        \n",
    "        return wrapper\n",
    "    \n",
    "    return decorator\n",
    "\n",
    "map_func = lambda x: x+1\n",
    "\n",
    "@add_one_to_first_target_arg_and_print_decorator_args(1, 2, a=1)\n",
    "def reduce_func(x, y):\n",
    "    return x+y\n",
    "\n",
    "filter_func = lambda x: x < 3"
   ]
  },
  {
   "cell_type": "code",
   "execution_count": 39,
   "metadata": {},
   "outputs": [
    {
     "name": "stdout",
     "output_type": "stream",
     "text": [
      "1\n",
      "2\n",
      "3\n",
      "4\n",
      "5\n",
      "\n",
      "map: [2, 3, 4, 5, 6]\n",
      "\n",
      "Decorator arguments: (1, 2) {'a': 1}\n",
      "Decorator arguments: (1, 2) {'a': 1}\n",
      "Decorator arguments: (1, 2) {'a': 1}\n",
      "Decorator arguments: (1, 2) {'a': 1}\n",
      "reduce: 19\n",
      "\n",
      "filter: [1, 2]\n",
      "\n"
     ]
    }
   ],
   "source": [
    "# test\n",
    "l = [1, 2, 3, 4, 5]\n",
    "cl = CustomList(l)\n",
    "\n",
    "for x in cl:\n",
    "    print(x)\n",
    "print()\n",
    "\n",
    "print(\"map:\", list(cl.map(map_func)))\n",
    "print()\n",
    "\n",
    "print(\"reduce:\", cl.reduce(reduce_func))\n",
    "print()\n",
    "\n",
    "print(\"filter:\", list(cl.filter(filter_func)))\n",
    "print()"
   ]
  },
  {
   "cell_type": "markdown",
   "metadata": {},
   "source": [
    "# Manejo de Excepciones"
   ]
  },
  {
   "cell_type": "markdown",
   "metadata": {},
   "source": [
    "## Tipos de excepciones"
   ]
  },
  {
   "cell_type": "markdown",
   "metadata": {},
   "source": [
    "There are many types of exceptions. The base class is \"BaseException\", but it is not encourage to enheritage from it. Instead, there are four main types of exceptions to act as base exceptions:\n",
    "- **Exception**: All built-in, non-system-exiting exceptions are derived from this class. All user-defined exceptions should also be derived from this class.\n",
    "- **ArithmeticError**: The base class for those built-in exceptions that are raised for various arithmetic errors: *OverflowError*, *ZeroDivisionError*, *FloatingPointError*.\n",
    "- **BufferError**: Raised when a buffer related operation cannot be performed.\n",
    "- **LookupError**: The base class for the exceptions that are raised when a key or index used on a mapping or sequence is invalid: *IndexError*, *KeyError*. "
   ]
  },
  {
   "cell_type": "markdown",
   "metadata": {},
   "source": [
    "## Uso y manejo de excepciones"
   ]
  },
  {
   "cell_type": "markdown",
   "metadata": {},
   "source": [
    "### Syntaxis"
   ]
  },
  {
   "cell_type": "code",
   "execution_count": 40,
   "metadata": {},
   "outputs": [
    {
     "name": "stdout",
     "output_type": "stream",
     "text": [
      "we use raise to raise exceptions\n"
     ]
    }
   ],
   "source": [
    "try: pass\n",
    "    # statements in try block\n",
    "    \n",
    "except IndexError: pass\n",
    "    # executed when IndexError in try block\n",
    "    \n",
    "except: pass\n",
    "    # executed when non IndexError error in try block\n",
    "    \n",
    "else: pass\n",
    "    # executed if try block is error-free\n",
    "    \n",
    "finally: pass\n",
    "    # executed irrespective of exception occured or not\n",
    "    \n",
    "print(\"we use raise to raise exceptions\")"
   ]
  },
  {
   "cell_type": "markdown",
   "metadata": {},
   "source": [
    "### Ejemplo"
   ]
  },
  {
   "cell_type": "code",
   "execution_count": 41,
   "metadata": {},
   "outputs": [
    {
     "name": "stdout",
     "output_type": "stream",
     "text": [
      "try block: raise exception\n",
      "except block: This is excecuted if error\n",
      "finally block: This is always excecuted\n",
      "\n",
      "-----------------------\n",
      "\n",
      "try block: pass\n",
      "else block: This is excecuted if not error\n",
      "finally block: This is always excecuted\n"
     ]
    }
   ],
   "source": [
    "try:\n",
    "    print(\"try block: raise exception\")\n",
    "    raise TypeError\n",
    "except:\n",
    "    print(\"except block:\", end=\" \")\n",
    "    print(\"This is excecuted if error\")\n",
    "else:\n",
    "    print(\"else block:\", end=\" \")\n",
    "    print(\"This is excecuted if not error\")\n",
    "finally:\n",
    "    print(\"finally block:\", end=\" \")\n",
    "    print(\"This is always excecuted\")\n",
    "    \n",
    "print(\"\\n-----------------------\\n\")\n",
    "\n",
    "try:\n",
    "    print(\"try block: pass\")\n",
    "    pass\n",
    "except:\n",
    "    print(\"except block:\", end=\" \")\n",
    "    print(\"This is excecuted if error\")\n",
    "else:\n",
    "    print(\"else block:\", end=\" \")\n",
    "    print(\"This is excecuted if not error\")\n",
    "finally:\n",
    "    print(\"finally block:\", end=\" \")\n",
    "    print(\"This is always excecuted\")"
   ]
  },
  {
   "cell_type": "markdown",
   "metadata": {},
   "source": [
    "### Assertions"
   ]
  },
  {
   "cell_type": "code",
   "execution_count": 42,
   "metadata": {},
   "outputs": [
    {
     "name": "stdout",
     "output_type": "stream",
     "text": [
      "This raises an error\n",
      "AssertionError\n"
     ]
    }
   ],
   "source": [
    "# Assertions\n",
    "\n",
    "assert 1 == 1, \"no error here, nothing happens\"\n",
    "\n",
    "try:\n",
    "    assert 1 == 2, \"This raises an error\"\n",
    "except AssertionError as e:\n",
    "    print(e)\n",
    "    print(\"AssertionError\")"
   ]
  },
  {
   "cell_type": "markdown",
   "metadata": {},
   "source": [
    "### Custom errors"
   ]
  },
  {
   "cell_type": "code",
   "execution_count": 43,
   "metadata": {},
   "outputs": [
    {
     "name": "stdout",
     "output_type": "stream",
     "text": [
      "CustomError: custom attribute error: 5\n"
     ]
    }
   ],
   "source": [
    "class CustomError(Exception):\n",
    "    def __init__(self, custom_attr, message):\n",
    "        self.custom_attr = custom_attr\n",
    "        self.message = message\n",
    "        \n",
    "        m = \"CustomError: \" + self.message\n",
    "        \n",
    "        # pass a message for the parent Exception class\n",
    "        super().__init__(m)\n",
    "        \n",
    "custom_attr = 5\n",
    "\n",
    "try:\n",
    "    raise CustomError(custom_attr, f\"custom attribute error: {custom_attr}\")\n",
    "except CustomError as e:\n",
    "    print(e)"
   ]
  },
  {
   "cell_type": "markdown",
   "metadata": {},
   "source": [
    "# Simulación"
   ]
  },
  {
   "cell_type": "markdown",
   "metadata": {},
   "source": [
    "Esta es una introducción a Descrete Event Simulation (DES). Para esto existe la librería simpy, pero no la usaremos acá. Lo que haremos es programar un time scheduler. \n",
    "\n",
    "A continuación se muestra una clase que simula un sistema que recibe personas. En este sistema:\n",
    "- Llegan personas ~exp(lambda1)\n",
    "- Se van personas ~exp(lambda2)\n",
    "\n",
    "Queremos simular el proceso y además sacar estadísticas, como el tiempo promedio que pasan las personas en el sistema.\n",
    "\n",
    "El sistema funciona FIFO, por lo que solo se procesa una persona a la vez."
   ]
  },
  {
   "cell_type": "code",
   "execution_count": 44,
   "metadata": {},
   "outputs": [
    {
     "name": "stdout",
     "output_type": "stream",
     "text": [
      "Total arrivals: 51\n",
      "Total departures: 49\n",
      "Average waiting time: 1.1078\n"
     ]
    }
   ],
   "source": [
    "import numpy as np\n",
    "np.random.seed(0)\n",
    "\n",
    "class Simulation:\n",
    "    def __init__(self, incoming_frec=4, outgoing_frec=5):\n",
    "        # extra parameters\n",
    "        self.incoming_frec = incoming_frec\n",
    "        self.outgoing_frec = outgoing_frec\n",
    "        \n",
    "        # number of people in the system \"now\"\n",
    "        self.num_in_system = 0\n",
    "        \n",
    "        # \"now\" time\n",
    "        self.clock = 0.0\n",
    "        # next arrival time\n",
    "        self.t_arrival = self.generate_arrival_interval()\n",
    "        # next departure time\n",
    "        self.t_departure = float(\"inf\")\n",
    "        \n",
    "        # stats\n",
    "        self.n_arrivals = 0\n",
    "        self.n_departures = 0\n",
    "        self.total_wait_time = 0.0\n",
    "        \n",
    "    \n",
    "    def advance_time(self):\n",
    "        ## First update stats (before changing the clock)\n",
    "        # get time of next event\n",
    "        t_event = min(self.t_arrival, self.t_departure)\n",
    "        \n",
    "        # time to next event (i.e. waiting time until next event)\n",
    "        t_wait = t_event - self.clock\n",
    "        \n",
    "        # increase total waiting time (t_wait x number of people waiting)\n",
    "        self.total_wait_time += t_wait * self.num_in_system\n",
    "        \n",
    "        \n",
    "        ## Now change the clock and continure simulating\n",
    "        self.clock = t_event\n",
    "        \n",
    "        if self.t_arrival <= self.t_departure:\n",
    "            self.handle_arrival()\n",
    "        else:\n",
    "            self.handle_departure()\n",
    "            \n",
    "    \n",
    "    def handle_arrival(self):\n",
    "        ## Update stats\n",
    "        self.num_in_system += 1\n",
    "        self.n_arrivals += 1\n",
    "        \n",
    "        ## Process\n",
    "        # if this is the only person in the system, set departure time\n",
    "        if self.num_in_system <= 1:\n",
    "            self.t_departure = self.clock + self.generate_departure_interval()\n",
    "        \n",
    "        # set next arrival\n",
    "        self.t_arrival = self.clock + self.generate_arrival_interval()\n",
    "        \n",
    "    \n",
    "    def handle_departure(self):\n",
    "        ## Update stats\n",
    "        self.num_in_system -= 1\n",
    "        self.n_departures += 1\n",
    "        \n",
    "        ## Process\n",
    "        # if there are more people in the system\n",
    "        if self.num_in_system > 0:\n",
    "            self.t_departure = self.clock + self.generate_departure_interval()\n",
    "        else:\n",
    "            self.t_departure = float(\"inf\")\n",
    "        \n",
    "    \n",
    "    def generate_arrival_interval(self):\n",
    "        # incoming: incoming_frec people per day\n",
    "        lambda1 = 1./self.incoming_frec\n",
    "        \n",
    "        return np.random.exponential(lambda1)\n",
    "    \n",
    "    def generate_departure_interval(self):\n",
    "        # outgoing: outgoing_frec people per day\n",
    "        lambda2 = 1./self.outgoing_frec\n",
    "        \n",
    "        return np.random.exponential(lambda2)\n",
    "    \n",
    "    \n",
    "    def run(self, iterations=100):\n",
    "        # run simulation\n",
    "        \n",
    "        for i in range(iterations):\n",
    "            self.advance_time()\n",
    "            \n",
    "        self.print_stats()\n",
    "            \n",
    "    \n",
    "    def get_avg_waiting_time(self):\n",
    "        return self.total_wait_time / self.n_departures\n",
    "    \n",
    "    def print_stats(self):\n",
    "        avg_w_t = self.get_avg_waiting_time()\n",
    "        avg_w_t = round(avg_w_t, 4)\n",
    "        \n",
    "        arr = self.n_arrivals\n",
    "        dep = self.n_departures\n",
    "        \n",
    "        s = f\"Total arrivals: {arr}\\nTotal departures: {dep}\\nAverage waiting time: {avg_w_t}\"\n",
    "        \n",
    "        print(s)\n",
    "    \n",
    "\n",
    "s = Simulation()\n",
    "s.run(100)"
   ]
  },
  {
   "cell_type": "markdown",
   "metadata": {},
   "source": [
    "# Threading"
   ]
  },
  {
   "cell_type": "markdown",
   "metadata": {},
   "source": [
    "Threads \"paralelize\" code excecution. This speeds up programs that have waiting time, like in I/O based programs. In Python, each thread takes a target function to excecute (and its arguments), and needs to be started. Later in the code, you can specify to wait for a specific thread to finish before moving on."
   ]
  },
  {
   "cell_type": "code",
   "execution_count": 45,
   "metadata": {},
   "outputs": [],
   "source": [
    "def do_something(seconds):\n",
    "    print(f\"Sleeping {seconds} seconds...\")\n",
    "    time.sleep(seconds)\n",
    "    print(f\"Done sleeping {seconds} seconds\")"
   ]
  },
  {
   "cell_type": "markdown",
   "metadata": {},
   "source": [
    "### Sin threads"
   ]
  },
  {
   "cell_type": "code",
   "execution_count": 46,
   "metadata": {},
   "outputs": [
    {
     "name": "stdout",
     "output_type": "stream",
     "text": [
      "Sleeping 1.5 seconds...\n",
      "Done sleeping 1.5 seconds\n",
      "Sleeping 1 seconds...\n",
      "Done sleeping 1 seconds\n",
      "\n",
      "Finished in 2.51 seconds.\n"
     ]
    }
   ],
   "source": [
    "import time\n",
    "\n",
    "t = time.time()\n",
    "    \n",
    "do_something(1.5)\n",
    "do_something(1)\n",
    "\n",
    "print(f\"\\nFinished in {round(time.time() - t, 2)} seconds.\")"
   ]
  },
  {
   "cell_type": "markdown",
   "metadata": {},
   "source": [
    "### Con threads"
   ]
  },
  {
   "cell_type": "code",
   "execution_count": 47,
   "metadata": {},
   "outputs": [
    {
     "name": "stdout",
     "output_type": "stream",
     "text": [
      "Sleeping 1.5 seconds...\n",
      "Sleeping 1 seconds...\n",
      "Done sleeping 1 seconds\n",
      "Done sleeping 1.5 seconds\n",
      "Finished in 1.5 seconds.\n"
     ]
    }
   ],
   "source": [
    "import time\n",
    "import threading\n",
    "\n",
    "t = time.time()\n",
    "\n",
    "# create threads\n",
    "t1 = threading.Thread(target=do_something, args=[1.5])\n",
    "t2 = threading.Thread(target=do_something, args=[1])\n",
    "\n",
    "# start threads\n",
    "t1.start()\n",
    "t2.start()\n",
    "\n",
    "# make threads finish before moving on\n",
    "t1.join()\n",
    "t2.join()\n",
    "\n",
    "print(f\"Finished in {round(time.time() - t, 2)} seconds.\")"
   ]
  },
  {
   "cell_type": "markdown",
   "metadata": {},
   "source": [
    "### Generalizando"
   ]
  },
  {
   "cell_type": "code",
   "execution_count": 48,
   "metadata": {},
   "outputs": [],
   "source": [
    "def create_and_run_threads(funcs, func_args):\n",
    "    \"\"\"\n",
    "    Takes a function or a list of functions and, \n",
    "    for each one, creates a thread that excecute func(*func_args)\n",
    "    \"\"\"\n",
    "    \n",
    "    n = len(func_args)\n",
    "    \n",
    "    # if funcs is a single function, transform it into a list of functions\n",
    "    if not isinstance(funcs, list):\n",
    "        funcs = [funcs for _ in range(n)]\n",
    "        \n",
    "    assert len(funcs) == len(func_args)\n",
    "    \n",
    "    threads = []\n",
    "\n",
    "    # create and start threads\n",
    "    for i in range(n):\n",
    "        func = funcs[i]\n",
    "        f_args = func_args[i]\n",
    "        \n",
    "        thread = threading.Thread(target=func, args=f_args)\n",
    "        thread.start()\n",
    "\n",
    "        threads.append(thread)\n",
    "\n",
    "    # join threads\n",
    "    for thread in threads:\n",
    "        thread.join()"
   ]
  },
  {
   "cell_type": "code",
   "execution_count": 49,
   "metadata": {},
   "outputs": [
    {
     "name": "stdout",
     "output_type": "stream",
     "text": [
      "Sleeping 5.0 seconds...\n",
      "Sleeping 4.5 seconds...\n",
      "Sleeping 4.0 seconds...\n",
      "Sleeping 3.5 seconds...Sleeping 3.0 seconds...\n",
      "\n",
      "Sleeping 2.5 seconds...Sleeping 2.0 seconds...\n",
      "\n",
      "Sleeping 1.5 seconds...\n",
      "Sleeping 1.0 seconds...\n",
      "Sleeping 0.5 seconds...\n",
      "Done sleeping 0.5 seconds\n",
      "Done sleeping 1.0 seconds\n",
      "Done sleeping 1.5 seconds\n",
      "Done sleeping 2.0 seconds\n",
      "Done sleeping 2.5 seconds\n",
      "Done sleeping 3.0 seconds\n",
      "Done sleeping 3.5 seconds\n",
      "Done sleeping 4.0 seconds\n",
      "Done sleeping 4.5 seconds\n",
      "Done sleeping 5.0 seconds\n",
      "Finished in 5.01 seconds.\n"
     ]
    }
   ],
   "source": [
    "t = time.time()\n",
    "\n",
    "args = [[5 - i*0.5] for i in range(10)]\n",
    "create_and_run_threads(do_something, args)\n",
    "\n",
    "print(f\"Finished in {round(time.time() - t, 2)} seconds.\")"
   ]
  },
  {
   "cell_type": "markdown",
   "metadata": {},
   "source": [
    "### Custom Threads"
   ]
  },
  {
   "cell_type": "code",
   "execution_count": 50,
   "metadata": {},
   "outputs": [
    {
     "name": "stdout",
     "output_type": "stream",
     "text": [
      "Starting working thread... 5.0 secondsStarting working thread... 4.5 seconds\n",
      "\n",
      "Starting working thread... 4.0 seconds\n",
      "Starting working thread... 3.5 secondsStarting working thread... 3.0 seconds\n",
      "\n",
      "Starting working thread... 2.5 secondsStarting working thread... 2.0 seconds\n",
      "\n",
      "Starting working thread... 1.5 seconds\n",
      "Starting working thread... 1.0 seconds\n",
      "Starting working thread... 0.5 seconds\n",
      "Ending working thread after 0.5 seconds\n",
      "Ending working thread after 1.0 seconds\n",
      "Ending working thread after 1.5 seconds\n",
      "Ending working thread after 2.0 seconds\n",
      "Ending working thread after 2.5 seconds\n",
      "Ending working thread after 3.0 seconds\n",
      "Ending working thread after 3.5 seconds\n",
      "Ending working thread after 4.0 seconds\n",
      "Ending working thread after 4.5 seconds\n",
      "Ending working thread after 5.0 seconds\n"
     ]
    }
   ],
   "source": [
    "class Worker(threading.Thread):\n",
    "    def __init__(self, time):\n",
    "        self.time = time\n",
    "        super().__init__()\n",
    "    \n",
    "    def run(self):\n",
    "        # This gets excecuted when start() is called\n",
    "        print(f\"Starting working thread... {self.time} seconds\")\n",
    "        time.sleep(self.time)\n",
    "        print(f\"Ending working thread after {self.time} seconds\")\n",
    "    \n",
    "\n",
    "threads = []\n",
    "\n",
    "for i in range(10):\n",
    "    w = Worker(5 - i*0.5)\n",
    "    w.start()\n",
    "    threads.append(w)\n",
    "    \n",
    "for w in threads:\n",
    "    w.join()"
   ]
  },
  {
   "cell_type": "markdown",
   "metadata": {},
   "source": [
    "### isAlive"
   ]
  },
  {
   "cell_type": "code",
   "execution_count": 51,
   "metadata": {},
   "outputs": [
    {
     "name": "stdout",
     "output_type": "stream",
     "text": [
      "Starting working thread... 2 seconds\n",
      "True\n"
     ]
    }
   ],
   "source": [
    "w = Worker(2)\n",
    "w.start()\n",
    "w.join(1)\n",
    "\n",
    "print(w.isAlive())"
   ]
  },
  {
   "cell_type": "markdown",
   "metadata": {},
   "source": [
    "### Daemons"
   ]
  },
  {
   "cell_type": "markdown",
   "metadata": {},
   "source": [
    "This are low priority threads, that are not needed to finish with the rest of the program."
   ]
  },
  {
   "cell_type": "code",
   "execution_count": 52,
   "metadata": {},
   "outputs": [
    {
     "name": "stdout",
     "output_type": "stream",
     "text": [
      "Sleeping 3 seconds...\n",
      "Starting working thread... 2 seconds\n",
      "Ending working thread after 2 seconds\n",
      "Ending working thread after 2 seconds\n",
      "Done sleeping 3 seconds\n"
     ]
    }
   ],
   "source": [
    "w = Worker(2)\n",
    "d = threading.Thread(name=\"daemon\", target=do_something, args=(3,))\n",
    "d.setDaemon(True)\n",
    "\n",
    "d.start()\n",
    "w.start()\n",
    "\n",
    "d.join()\n",
    "w.join()\n",
    "\n",
    "# Notar que daemon empieza primero y se le exige que termine primero, \n",
    "# pero worker termina primero sin esperar a daemon (que demora 1 seg más)"
   ]
  },
  {
   "cell_type": "markdown",
   "metadata": {},
   "source": [
    "### Lock"
   ]
  },
  {
   "cell_type": "markdown",
   "metadata": {},
   "source": [
    "Cuando se debe manejar recursos de cuidado (ej: achivos), le podemos decir a los threads que aseguren el recurso de los demas threads."
   ]
  },
  {
   "cell_type": "code",
   "execution_count": 53,
   "metadata": {},
   "outputs": [],
   "source": [
    "class MiThread(threading.Thread):\n",
    "    # Esta clase modela un thread. Dentro creamos un objeto para bloqueo dentro de la clase\n",
    "    # El Lock es una variable independiente de cada thread\n",
    "    lock = threading.Lock()\n",
    "    \n",
    "    def __init__(self, i, archivo):\n",
    "        super().__init__()\n",
    "        self.i = i\n",
    "        self.archivo = archivo\n",
    "    \n",
    "    \"\"\"\n",
    "    def run(self):\n",
    "        # bloquea la ejecución de los demas threads al intentar escribir en el archivo\n",
    "        MiThread.lock.acquire() \n",
    "        try:\n",
    "            self.archivo.write('Esta linea fue escrita por el thread # {}\\n'.format(self.i))\n",
    "        finally:\n",
    "            # devuelve el control del recurso a los threads en espera\n",
    "            time.sleep(random())\n",
    "            MiThread.lock.release()\n",
    "    \"\"\"\n",
    "    \n",
    "    def run(self):\n",
    "        with MiThread.lock:\n",
    "            self.archivo.write('Esta linea fue escrita por el thread # {}\\n'.format(self.i))\n",
    "            "
   ]
  },
  {
   "cell_type": "markdown",
   "metadata": {},
   "source": [
    "# I/O-Manejo-de-Strings"
   ]
  },
  {
   "cell_type": "markdown",
   "metadata": {},
   "source": [
    "## Bytes"
   ]
  },
  {
   "cell_type": "code",
   "execution_count": 54,
   "metadata": {},
   "outputs": [
    {
     "name": "stdout",
     "output_type": "stream",
     "text": [
      "b'string cualquiera \\xc3\\xa4\\xc3\\xa1'\n",
      "b'string cualquiera \\xe4\\xe1'\n",
      "b'string cualquiera \\x84\\xa0'\n",
      "'ascii' codec can't encode characters in position 18-19: ordinal not in range(128)\n",
      "b'string cualquiera ??'\n",
      "b'string cualquiera '\n"
     ]
    }
   ],
   "source": [
    "s = \"string cualquiera äá\"\n",
    "\n",
    "print(s.encode(\"UTF-8\"))  # 8-bit Unicode Transformation Format\n",
    "print(s.encode(\"latin-1\"))\n",
    "print(s.encode(\"CP437\"))\n",
    "\n",
    "try:\n",
    "    # No se puede codificar en ASCII el caracter \"ó\" ya que no existe dentro \n",
    "    # de los 128 caracteres de ASCII\n",
    "    print(s.encode(\"ascii\"))  \n",
    "except Exception as e:\n",
    "    print(e)\n",
    "    \n",
    "print(s.encode(\"ascii\", errors = 'replace'))  # en ascii se reemplaza el caracter desconocido con \"?\"\n",
    "print(s.encode(\"ascii\", errors = 'ignore'))   # se reemplaza por \"\""
   ]
  },
  {
   "cell_type": "code",
   "execution_count": 55,
   "metadata": {},
   "outputs": [
    {
     "name": "stdout",
     "output_type": "stream",
     "text": [
      "True\n",
      "string cualquiera\n",
      "string cualquiera Ã¤Ã¡\n"
     ]
    }
   ],
   "source": [
    "# Se puede construir secuencia de bytes usando b\"string\"\n",
    "\n",
    "print(b\"string cualquiera\" == \"string cualquiera\".encode())\n",
    "print(b\"string cualquiera\".decode())\n",
    "print(s.encode('utf-8').decode('latin-1'))\n",
    "\n",
    "# Leccion de vida: la codificación importa con los caracteres raros"
   ]
  },
  {
   "cell_type": "markdown",
   "metadata": {},
   "source": [
    "## Bytearrays"
   ]
  },
  {
   "cell_type": "markdown",
   "metadata": {},
   "source": [
    "Son la versión de los bytes **mutables**. Funcionan como listas."
   ]
  },
  {
   "cell_type": "code",
   "execution_count": 56,
   "metadata": {},
   "outputs": [
    {
     "name": "stdout",
     "output_type": "stream",
     "text": [
      "bytearray(b'string cualquiera \\xc3\\xa4\\xc3\\xa1')\n",
      "g cualquiera äá\n"
     ]
    }
   ],
   "source": [
    "b = bytearray(s.encode('utf-8'))\n",
    "print(b)\n",
    "print(b[5:].decode('utf-8'))"
   ]
  },
  {
   "cell_type": "markdown",
   "metadata": {},
   "source": [
    "## Serialización en formato binario"
   ]
  },
  {
   "cell_type": "markdown",
   "metadata": {},
   "source": [
    "Serializar es pasar una estructura a formato bytes. Para Python existe pickle, que deja serializar objetos complejos como funciones, clases, diccionarios, etc."
   ]
  },
  {
   "cell_type": "code",
   "execution_count": 57,
   "metadata": {},
   "outputs": [
    {
     "name": "stdout",
     "output_type": "stream",
     "text": [
      "b'\\x80\\x03(X\\x01\\x00\\x00\\x00aq\\x00K\\x01K\\x03X\\x04\\x00\\x00\\x00holaq\\x01tq\\x02.'\n",
      "<class 'bytes'>\n",
      "('a', 1, 3, 'hola')\n"
     ]
    }
   ],
   "source": [
    "import pickle\n",
    "\n",
    "tupla = (\"a\", 1, 3, \"hola\")\n",
    "serial = pickle.dumps(tupla)\n",
    "print(serial)\n",
    "print(type(serial))\n",
    "print(pickle.loads(serial))"
   ]
  },
  {
   "cell_type": "code",
   "execution_count": 58,
   "metadata": {},
   "outputs": [],
   "source": [
    "# Para escribir/leer directamente en archivos, sacamos la 's' final, dejando dump y load\n",
    "\n",
    "# para no crear el archivo acá\n",
    "if False:\n",
    "    lista = [1, 2, 3, 7, 8, 3]\n",
    "\n",
    "    with open(\"mi_lista\", 'wb') as file:\n",
    "        pickle.dump(lista, file)\n",
    "\n",
    "    with open(\"mi_lista\", 'rb') as file:\n",
    "        mi_lista = pickle.load(file)\n",
    "\n",
    "    # Esto generaría un error si el objeto que cargamos no es igual al que guardamos\n",
    "    assert mi_lista == lista "
   ]
  },
  {
   "cell_type": "markdown",
   "metadata": {},
   "source": [
    "## Serialización en formato JSON"
   ]
  },
  {
   "cell_type": "markdown",
   "metadata": {},
   "source": [
    "Pickle solo sirve en Python. Para cross-language usamos el más limitado pero común JavaScript Object Notation (JSON). En JSON sólo es posible serializar instancias de `int`, `str`, `float`, `dict`, `bool`, `list`, `tuple` y `NoneType`."
   ]
  },
  {
   "cell_type": "code",
   "execution_count": 59,
   "metadata": {},
   "outputs": [
    {
     "name": "stdout",
     "output_type": "stream",
     "text": [
      "datos en formato JSON: \n",
      "{\"nombre\": \"Juan\", \"edad\": 35, \"estado_civil\": \"Soltero\", \"idn\": 1}\n",
      "<class 'str'>\n",
      "\n",
      "datos en formato Python: \n",
      "{'nombre': 'Juan', 'edad': 35, 'estado_civil': 'Soltero', 'idn': 1}\n",
      "<class 'dict'>\n"
     ]
    }
   ],
   "source": [
    "import json\n",
    "\n",
    "class Persona:\n",
    "    def __init__(self, nombre, edad, estado_civil):\n",
    "        self.nombre = nombre\n",
    "        self.edad = edad\n",
    "        self.estado_civil = estado_civil\n",
    "        self.idn = next(Persona.gen)\n",
    "\n",
    "    def get_id():\n",
    "        cont = 1\n",
    "        while True:\n",
    "            yield cont\n",
    "            cont += 1\n",
    "\n",
    "    gen = get_id()\n",
    "            \n",
    "p = Persona(\"Juan\", 35, \"Soltero\")\n",
    "json_string = json.dumps(p.__dict__)\n",
    "\n",
    "print(\"datos en formato JSON: \")\n",
    "print(json_string)\n",
    "print(type(json_string))\n",
    "\n",
    "print()\n",
    "\n",
    "print(\"datos en formato Python: \")\n",
    "print(json.loads(json_string))\n",
    "print(type(json.loads(json_string)))"
   ]
  },
  {
   "cell_type": "markdown",
   "metadata": {},
   "source": [
    "# Networking"
   ]
  },
  {
   "cell_type": "markdown",
   "metadata": {},
   "source": [
    "## Sockets"
   ]
  },
  {
   "cell_type": "markdown",
   "metadata": {},
   "source": [
    "Son los objetos encargados de manejar la comunicación a través de la red (hostname, dirección, puerto, etc.)\n",
    "\n",
    "- AF_INET para direcciones IPv4\n",
    "- AF_INET6 para direcciones IPv6\n",
    "- SOCK_STREAM para connecciones TCP\n",
    "- SOCK_DGRAM para connecciones UDP"
   ]
  },
  {
   "cell_type": "code",
   "execution_count": 60,
   "metadata": {},
   "outputs": [],
   "source": [
    "import socket\n",
    "\n",
    "# Esto crea un socket para una conexión TCP con IPv4\n",
    "s = socket.socket(socket.AF_INET, socket.SOCK_STREAM)"
   ]
  },
  {
   "cell_type": "markdown",
   "metadata": {},
   "source": [
    "## Arquitectura Cliente-Servidor "
   ]
  },
  {
   "cell_type": "markdown",
   "metadata": {},
   "source": [
    "Esta arquitectura corresponde a un modelo de conexión entre máquinas donde algunas máquinas ofrecen un servicio (servidores) y otras máquinas(clientes) consumen estos servicios. Un cliente debe conectarse a un servidor usando los protocolos definidos por este. Un servidor por otro lado debe estar constantemente atento a potenciales conexiones de clientes."
   ]
  },
  {
   "cell_type": "code",
   "execution_count": 61,
   "metadata": {},
   "outputs": [],
   "source": [
    "import threading\n",
    "import socket\n",
    "\n",
    "\n",
    "# La clase Client manejará toda la comunicación desde el lado del cliente.\n",
    "# Implementa el esquema de comunicación donde los primeros 4 bytes de cada \n",
    "# mensaje indicarán el largo del mensaje enviado.\n",
    "\n",
    "class Client:\n",
    "    def __init__(self, port, host):\n",
    "        print(\"Inicializando cliente...\")\n",
    "\n",
    "        # Inicializamos el socket principal del cliente\n",
    "        self.host = host\n",
    "        self.port = port\n",
    "        self.socket_cliente = socket.socket(socket.AF_INET, socket.SOCK_STREAM)\n",
    "        \n",
    "        try:\n",
    "            self.connect_to_server()\n",
    "            self.listen()\n",
    "            self.repl()\n",
    "        except:\n",
    "            print(\"Conexión terminada\")\n",
    "            self.socket_cliente.close()\n",
    "            exit()\n",
    "\n",
    "    # El método connnect_to_server() creará la conexión al servidor.\n",
    "    def connect_to_server(self):\n",
    "        self.socket_cliente.connect((self.host, self.port))\n",
    "        print(\"Cliente conectado exitosamente al servidor...\")\n",
    "\n",
    "    # El método listen() inicilizará el thread que escuchará los mensajes del\n",
    "    # servidor. Es útil hacer un thread diferente para escuchar al servidor \n",
    "    # ya que de esa forma podremos tener comunicación asíncrona con este, es decir,\n",
    "    # el servidor nos podrá enviar mensajes sin necesidad de iniciar una solicitud \n",
    "    # desde el lado del cliente.\n",
    "    def listen(self):\n",
    "        thread = threading.Thread(target=self.listen_thread, daemon=True)\n",
    "        thread.start()\n",
    "\n",
    "\n",
    "    # El método send() enviará mensajes al servidor. Implementa el mismo\n",
    "    # protocolo de comunicación que mencionamos, es decir, agregar 4 bytes \n",
    "    # al principio de cada mensaje indicando el largo del mensaje enviado.\n",
    "    def send(self, msg):\n",
    "        msg_bytes = msg.encode()\n",
    "        msg_length = len(msg_bytes).to_bytes(4, byteorder=\"big\")\n",
    "        self.socket_cliente.send(msg_length + msg_bytes)\n",
    "\n",
    "\n",
    "    # La función listen_thread() será lanzada como thread el cual se encarga\n",
    "    # de escuchar al servidor. Vemos como se encarga de recibir 4 bytes que \n",
    "    # indicarán el largo de los mensajes. Posteriormente recibe en bloques de\n",
    "    # 256 bytes el resto del mensaje hasta que éste se recibe totalmente.\n",
    "    def listen_thread(self):\n",
    "        while True:\n",
    "            response_bytes_length = self.socket_cliente.recv(4)\n",
    "            response_length = int.from_bytes(response_bytes_length, byteorder=\"big\")\n",
    "            response = b\"\"\n",
    "            \n",
    "            # Recibimos datos hasta que alcancemos la totalidad de los datos \n",
    "            # indicados en los primeros 4 bytes recibidos.\n",
    "            while len(response) < response_length:\n",
    "                response += self.socket_cliente.recv(256)\n",
    "                \n",
    "            print(\"{}\\n>>> \".format(response.decode()), end=\"\")\n",
    "\n",
    "\n",
    "    # Usaremos este método para capturar input del usuario. Lee mensajes desde \n",
    "    # el terminal y después se los pasa a `self.send()`.\n",
    "    def repl(self):\n",
    "        print(\"------ Consola ------\\n>>> \", end=\"\")\n",
    "        \n",
    "        while True:\n",
    "            msg = input(\"\")\n",
    "            response = self.send(msg)\n",
    "        \n",
    "if __name__ == \"__main__\" and False:\n",
    "    port = 8080\n",
    "    host = \"0.0.0.0\"\n",
    "\n",
    "    client = Client(port, host)"
   ]
  },
  {
   "cell_type": "code",
   "execution_count": 62,
   "metadata": {},
   "outputs": [],
   "source": [
    "import threading\n",
    "import socket\n",
    "\n",
    "\n",
    "class Server:\n",
    "    \n",
    "    def __init__(self, port, host):\n",
    "        print(\"Inicializando servidor...\")\n",
    "\n",
    "        # Inicializar socket principal del servidor.\n",
    "        self.host = host\n",
    "        self.port = port\n",
    "        self.socket_servidor = socket.socket(socket.AF_INET, socket.SOCK_STREAM)\n",
    "        self.bind_and_listen()\n",
    "        self.accept_connections()\n",
    "\n",
    "    # El método bind_and_listen() enlazará el socket creado con el host y puerto\n",
    "    # indicado. Primero se enlaza el socket y luego que esperando por conexiones \n",
    "    # entrantes, con un máximo de 5 clientes en espera.\n",
    "    def bind_and_listen(self):\n",
    "        self.socket_servidor.bind((self.host, self.port))\n",
    "        self.socket_servidor.listen(5)  \n",
    "        print(\"Servidor escuchando en {}:{}...\".format(self.host, self.port))\n",
    "        \n",
    "    # El método accept_connections() inicia el thread que aceptará clientes. \n",
    "    # Aunque podríamos aceptar clientes en el thread principal de la instancia, \n",
    "    # resulta útil hacerlo en un thread aparte que nos permitirá realizar la\n",
    "    # lógica en la parte del servidor sin dejar de aceptar clientes. Por ejemplo,\n",
    "    # seguir procesando archivos.\n",
    "    def accept_connections(self):\n",
    "        thread = threading.Thread(target=self.accept_connections_thread)\n",
    "        thread.start()\n",
    "        \n",
    "    # El método accept_connections_thread() será arrancado como thread para \n",
    "    # aceptar clientes. Cada vez que aceptamos un nuevo cliente, iniciamos un \n",
    "    # thread nuevo encargado de manejar el socket para ese cliente.\n",
    "    def accept_connections_thread(self):\n",
    "        print(\"Servidor aceptando conexiones...\")\n",
    "\n",
    "        while True:\n",
    "            client_socket, _ = self.socket_servidor.accept()\n",
    "            listening_client_thread = threading.Thread(\n",
    "                target=self.listen_client_thread,\n",
    "                args=(client_socket,),\n",
    "                daemon=True\n",
    "            )\n",
    "            listening_client_thread.start()\n",
    "\n",
    "    # Usaremos el método send() para enviar mensajes hacia algún socket cliente. \n",
    "    # Debemos implementar en este método el protocolo de comunicación donde los \n",
    "    # primeros 4 bytes indicarán el largo del mensaje.\n",
    "    @staticmethod\n",
    "    def send(value, socket):\n",
    "        stringified_value = str(value)\n",
    "        msg_bytes = stringified_value.encode()\n",
    "        msg_length = len(msg_bytes).to_bytes(4, byteorder=\"big\")\n",
    "        socket.send(msg_length + msg_bytes)\n",
    "\n",
    "\n",
    "    # El método listen_client_thread() sera ejecutado como thread que escuchará a un \n",
    "    # cliente en particular. Implementa las funcionalidades del protocolo de comunicación\n",
    "    # que permiten recuperar la informacion enviada.\n",
    "    def listen_client_thread(self, client_socket):\n",
    "        print(\"Servidor conectado a un nuevo cliente...\")\n",
    "\n",
    "        while True:\n",
    "            response_bytes_length = client_socket.recv(4)\n",
    "            response_length = int.from_bytes(response_bytes_length, byteorder=\"big\")\n",
    "            response = b\"\"\n",
    "            \n",
    "            while len(response) < response_length:\n",
    "                response += client_socket.recv(256)\n",
    "                \n",
    "            received = response.decode() \n",
    "            \n",
    "            if received != \"\":\n",
    "                # El método `self.handle_command()` debe ser definido. Este realizará \n",
    "                # toda la lógica asociado a los mensajes que llegan al servidor desde \n",
    "                # un cliente en particular. Se espera que retorne la respuesta que el \n",
    "                # servidor debe enviar hacia el cliente.\n",
    "                response = self.handle_command(received, client_socket)\n",
    "                self.send(response, client_socket)\n",
    "\n",
    "                \n",
    "if __name__ == \"__main__\" and False:\n",
    "\n",
    "    port = 8080\n",
    "    host = \"0.0.0.0\"\n",
    "\n",
    "    server = Server(port, host)"
   ]
  },
  {
   "cell_type": "code",
   "execution_count": null,
   "metadata": {},
   "outputs": [],
   "source": []
  }
 ],
 "metadata": {
  "kernelspec": {
   "display_name": "Python 3",
   "language": "python",
   "name": "python3"
  },
  "language_info": {
   "codemirror_mode": {
    "name": "ipython",
    "version": 3
   },
   "file_extension": ".py",
   "mimetype": "text/x-python",
   "name": "python",
   "nbconvert_exporter": "python",
   "pygments_lexer": "ipython3",
   "version": "3.6.9"
  }
 },
 "nbformat": 4,
 "nbformat_minor": 4
}
